{
 "cells": [
  {
   "cell_type": "code",
   "execution_count": 1,
   "id": "1c455154",
   "metadata": {},
   "outputs": [],
   "source": [
    "import numpy as np\n",
    "from imutils import paths\n",
    "import matplotlib.pyplot as plt\n",
    "import os\n",
    "import cv2\n",
    "import pandas as pd\n",
    "\n",
    "from tensorflow.keras.utils import to_categorical\n",
    "from tensorflow.keras.preprocessing.image import ImageDataGenerator\n",
    "\n",
    "import tensorflow as tf\n",
    "import keras\n",
    "from keras.models import Sequential\n",
    "from keras.layers import Dense, Dropout, Flatten\n",
    "from keras.layers import Conv2D, MaxPooling2D, Conv3D, BatchNormalization, Activation\n",
    "from keras import backend as K\n",
    "from keras.layers import Convolution2D\n",
    "from keras.utils.np_utils import to_categorical\n",
    "\n",
    "from PIL import Image\n",
    "from sklearn.model_selection import train_test_split\n"
   ]
  },
  {
   "cell_type": "code",
   "execution_count": 2,
   "id": "94652b35",
   "metadata": {},
   "outputs": [],
   "source": [
    "\n",
    "\n",
    "img_size = 64    \n",
    "\n",
    "    \n",
    "\n",
    "df = pd.read_csv(\"./Desktop/AMLS/label.csv\")\n",
    "lbl = pd.get_dummies(df['label'])\n",
    "lbl =np.array(lbl)\n",
    "path = \"./Desktop/AMLS/image\"\n",
    "image_paths = list(paths.list_images(path))\n",
    " \n",
    "images = []\n",
    "    \n",
    "for image_path in image_paths:\n",
    "    image = cv2.imread(image_path,0)\n",
    "    image = cv2.resize(image, (img_size, img_size))\n",
    "    images.append(image)\n",
    "plt.imshow(images[1])"
   ]
  },
  {
   "cell_type": "code",
   "execution_count": 3,
   "id": "12c6fa60",
   "metadata": {},
   "outputs": [],
   "source": [
    "Y = []\n",
    "X = []\n",
    "training_data = []\n",
    "for i in range(0, 3000):\n",
    "    \n",
    "    if \"no_tumor\" in (df.iat[i,1]): \n",
    "        Y.append(lbl[i])\n",
    "        X.append(images[i])\n",
    "    elif \"meningioma_tumor\" in (df.iat[i,1]):\n",
    "        Y.append(lbl[i])\n",
    "        X.append(images[i])\n",
    "    elif \"pituitary_tumor\" in (df.iat[i,1]): \n",
    "        Y.append(lbl[i])\n",
    "        X.append(images[i])\n",
    "    elif \"glioma_tumor\" in (df.iat[i,1]):\n",
    "        Y.append(lbl[i])\n",
    "        X.append(images[i])\n",
    "for i in range(0,3000):\n",
    "    training_data.append([X[i],Y[i]])\n"
   ]
  },
  {
   "cell_type": "code",
   "execution_count": 5,
   "id": "96cb94b1",
   "metadata": {},
   "outputs": [],
   "source": [
    "import random\n",
    "\n",
    "random.shuffle(training_data)"
   ]
  },
  {
   "cell_type": "code",
   "execution_count": 6,
   "id": "51a22860",
   "metadata": {},
   "outputs": [
    {
     "name": "stdout",
     "output_type": "stream",
     "text": [
      "3000\n"
     ]
    }
   ],
   "source": [
    "Y = []\n",
    "X = []\n",
    "for features, label in training_data:\n",
    "    X.append(features)\n",
    "    Y.append(label)\n",
    "    \n",
    "X = np.array(X).reshape(-1,img_size,img_size,1)    "
   ]
  },
  {
   "cell_type": "code",
   "execution_count": 7,
   "id": "a69045e1",
   "metadata": {},
   "outputs": [
    {
     "data": {
      "text/plain": [
       "(64, 64, 1)"
      ]
     },
     "execution_count": 7,
     "metadata": {},
     "output_type": "execute_result"
    }
   ],
   "source": [
    "X = X/255.0\n",
    "Y =np.array(Y)\n",
    "X.shape[1:]"
   ]
  },
  {
   "cell_type": "code",
   "execution_count": 8,
   "id": "33b1c1b0",
   "metadata": {},
   "outputs": [],
   "source": [
    "model = Sequential()\n",
    "model.add(Conv2D(64,(3,3),input_shape = X.shape[1:]))\n",
    "model.add(Activation(\"relu\"))\n",
    "model.add(MaxPooling2D(pool_size=(2,2)))\n",
    "model.add(Dropout(.2))   \n",
    "\n",
    "model.add(Conv2D(64,(3,3)))\n",
    "model.add(Activation(\"relu\"))\n",
    "model.add(MaxPooling2D(pool_size=(2,2)))\n",
    "\n",
    "model.add(Flatten())\n",
    "\n",
    "model.add(Dense(64))\n",
    "model.add(Activation(\"relu\"))     \n",
    "model.add(Dropout(.2)) \n",
    "\n",
    "model.add(Dense(4))\n",
    "model.add(Activation('softmax'))\n",
    "          \n",
    "model.compile(loss=\"categorical_crossentropy\",\n",
    "             optimizer=\"adam\",\n",
    "             metrics=['accuracy'])"
   ]
  },
  {
   "cell_type": "code",
   "execution_count": 9,
   "id": "f0b8cd2a",
   "metadata": {
    "scrolled": true
   },
   "outputs": [
    {
     "name": "stdout",
     "output_type": "stream",
     "text": [
      "Model: \"sequential\"\n",
      "_________________________________________________________________\n",
      " Layer (type)                Output Shape              Param #   \n",
      "=================================================================\n",
      " conv2d (Conv2D)             (None, 62, 62, 64)        640       \n",
      "                                                                 \n",
      " activation (Activation)     (None, 62, 62, 64)        0         \n",
      "                                                                 \n",
      " max_pooling2d (MaxPooling2D  (None, 31, 31, 64)       0         \n",
      " )                                                               \n",
      "                                                                 \n",
      " dropout (Dropout)           (None, 31, 31, 64)        0         \n",
      "                                                                 \n",
      " conv2d_1 (Conv2D)           (None, 29, 29, 64)        36928     \n",
      "                                                                 \n",
      " activation_1 (Activation)   (None, 29, 29, 64)        0         \n",
      "                                                                 \n",
      " max_pooling2d_1 (MaxPooling  (None, 14, 14, 64)       0         \n",
      " 2D)                                                             \n",
      "                                                                 \n",
      " flatten (Flatten)           (None, 12544)             0         \n",
      "                                                                 \n",
      " dense (Dense)               (None, 64)                802880    \n",
      "                                                                 \n",
      " activation_2 (Activation)   (None, 64)                0         \n",
      "                                                                 \n",
      " dropout_1 (Dropout)         (None, 64)                0         \n",
      "                                                                 \n",
      " dense_1 (Dense)             (None, 4)                 260       \n",
      "                                                                 \n",
      " activation_3 (Activation)   (None, 4)                 0         \n",
      "                                                                 \n",
      "=================================================================\n",
      "Total params: 840,708\n",
      "Trainable params: 840,708\n",
      "Non-trainable params: 0\n",
      "_________________________________________________________________\n"
     ]
    }
   ],
   "source": [
    "model.summary()"
   ]
  },
  {
   "cell_type": "code",
   "execution_count": 10,
   "id": "d42fea4e",
   "metadata": {},
   "outputs": [
    {
     "name": "stdout",
     "output_type": "stream",
     "text": [
      "Epoch 1/11\n",
      "200/200 [==============================] - 14s 65ms/step - loss: 1.1369 - accuracy: 0.5058 - val_loss: 0.8658 - val_accuracy: 0.6217\n",
      "Epoch 2/11\n",
      "200/200 [==============================] - 11s 54ms/step - loss: 0.7815 - accuracy: 0.6854 - val_loss: 0.6451 - val_accuracy: 0.7517\n",
      "Epoch 3/11\n",
      "200/200 [==============================] - 11s 53ms/step - loss: 0.6076 - accuracy: 0.7646 - val_loss: 0.5287 - val_accuracy: 0.8083\n",
      "Epoch 4/11\n",
      "200/200 [==============================] - 10s 52ms/step - loss: 0.4771 - accuracy: 0.8204 - val_loss: 0.4582 - val_accuracy: 0.8083\n",
      "Epoch 5/11\n",
      "200/200 [==============================] - 10s 51ms/step - loss: 0.3720 - accuracy: 0.8512 - val_loss: 0.3867 - val_accuracy: 0.8383\n",
      "Epoch 6/11\n",
      "200/200 [==============================] - 10s 49ms/step - loss: 0.3030 - accuracy: 0.8763 - val_loss: 0.2989 - val_accuracy: 0.9050\n",
      "Epoch 7/11\n",
      "200/200 [==============================] - 10s 49ms/step - loss: 0.2421 - accuracy: 0.9133 - val_loss: 0.2971 - val_accuracy: 0.8850\n",
      "Epoch 8/11\n",
      "200/200 [==============================] - 10s 52ms/step - loss: 0.2173 - accuracy: 0.9179 - val_loss: 0.2513 - val_accuracy: 0.9083\n",
      "Epoch 9/11\n",
      "200/200 [==============================] - 10s 52ms/step - loss: 0.1450 - accuracy: 0.9488 - val_loss: 0.2574 - val_accuracy: 0.9233\n",
      "Epoch 10/11\n",
      "200/200 [==============================] - 10s 51ms/step - loss: 0.1308 - accuracy: 0.9496 - val_loss: 0.2729 - val_accuracy: 0.9000\n",
      "Epoch 11/11\n",
      "200/200 [==============================] - 10s 52ms/step - loss: 0.1184 - accuracy: 0.9550 - val_loss: 0.2449 - val_accuracy: 0.9217\n"
     ]
    }
   ],
   "source": [
    "history = model.fit(X,Y, batch_size=12,epochs=11,validation_split=0.2)"
   ]
  },
  {
   "cell_type": "code",
   "execution_count": 11,
   "id": "82cd8593",
   "metadata": {},
   "outputs": [
    {
     "data": {
      "image/png": "[encoded data removed]",
      "text/plain": [
       "<Figure size 432x288 with 1 Axes>"
      ]
     },
     "metadata": {
      "needs_background": "light"
     },
     "output_type": "display_data"
    }
   ],
   "source": [
    "plt.plot(history.history['loss'])\n",
    "plt.plot(history.history['val_loss'])\n",
    "plt.title('Model Loss')\n",
    "plt.ylabel('Loss')\n",
    "plt.xlabel('Epoch')\n",
    "plt.legend(['Train', 'Validation'])\n",
    "plt.show()"
   ]
  },
  {
   "cell_type": "code",
   "execution_count": 12,
   "id": "01c38667",
   "metadata": {},
   "outputs": [
    {
     "data": {
      "image/png": "[encoded data removed]",
      "text/plain": [
       "<Figure size 432x288 with 1 Axes>"
      ]
     },
     "metadata": {
      "needs_background": "light"
     },
     "output_type": "display_data"
    }
   ],
   "source": [
    "plt.plot(history.history['accuracy'])\n",
    "plt.plot(history.history['val_accuracy'])\n",
    "plt.title('Accuracy')\n",
    "plt.ylabel('Accuracy')\n",
    "plt.xlabel('Epoch')\n",
    "plt.legend(['Train', 'Validation'])\n",
    "plt.show()"
   ]
  },
  {
   "cell_type": "code",
   "execution_count": null,
   "id": "c6999cd2",
   "metadata": {},
   "outputs": [],
   "source": []
  }
 ],
 "metadata": {
  "kernelspec": {
   "display_name": "Python 3 (ipykernel)",
   "language": "python",
   "name": "python3"
  },
  "language_info": {
   "codemirror_mode": {
    "name": "ipython",
    "version": 3
   },
   "file_extension": ".py",
   "mimetype": "text/x-python",
   "name": "python",
   "nbconvert_exporter": "python",
   "pygments_lexer": "ipython3",
   "version": "3.9.7"
  }
 },
 "nbformat": 4,
 "nbformat_minor": 5
}
